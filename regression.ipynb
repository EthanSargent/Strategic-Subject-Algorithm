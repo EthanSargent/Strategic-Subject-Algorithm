{
 "cells": [
  {
   "cell_type": "markdown",
   "metadata": {},
   "source": [
    "## 0. Introduction\n",
    "The below code includes all my modeling for my regression analysis of the strategic subject algorithm, as well as scattered commentary. For detailed analysis, see the file `report.pdf` available in this directory. Some of the cross validation steps take many hours - don't run this all at once."
   ]
  },
  {
   "cell_type": "code",
   "execution_count": 34,
   "metadata": {},
   "outputs": [],
   "source": [
    "import statsmodels.api as sm\n",
    "import pandas as pd\n",
    "import numpy as np\n",
    "import matplotlib.pyplot as plt\n",
    "from scipy.stats import pearsonr\n",
    "from statsmodels.formula.api import ols\n",
    "from sklearn.linear_model import LinearRegression\n",
    "from sklearn.preprocessing import PolynomialFeatures\n",
    "from sklearn.preprocessing import StandardScaler\n",
    "from sklearn.model_selection import train_test_split"
   ]
  },
  {
   "cell_type": "code",
   "execution_count": 197,
   "metadata": {},
   "outputs": [],
   "source": [
    "# To study the distribution of the predictor `RAT AGE AT LATEST ARREST`,\n",
    "# we need a function to convert it to a continuous variable.\n",
    "def age_converter(agestring):\n",
    "    if agestring=='less than 20':\n",
    "        return 0.0\n",
    "    else:\n",
    "        return (float(agestring[0]) - 1)\n",
    "    \n",
    "def rmse(predicted, observed):\n",
    "    return np.sqrt(np.mean((predicted - observed)**2))"
   ]
  },
  {
   "cell_type": "code",
   "execution_count": 100,
   "metadata": {},
   "outputs": [],
   "source": [
    "df = pd.read_csv(\"Strategic_Subject_List.csv\", low_memory=False)"
   ]
  },
  {
   "cell_type": "code",
   "execution_count": 198,
   "metadata": {},
   "outputs": [],
   "source": [
    "predictors = df[['SSL SCORE', 'PREDICTOR RAT AGE AT LATEST ARREST',\\\n",
    "       'PREDICTOR RAT VICTIM SHOOTING INCIDENTS',\\\n",
    "       'PREDICTOR RAT VICTIM BATTERY OR ASSAULT',\\\n",
    "       'PREDICTOR RAT ARRESTS VIOLENT OFFENSES',\\\n",
    "       'PREDICTOR RAT GANG AFFILIATION', 'PREDICTOR RAT NARCOTIC ARRESTS',\\\n",
    "       'PREDICTOR RAT TREND IN CRIMINAL ACTIVITY', 'PREDICTOR RAT UUW ARRESTS']].dropna()\n",
    "predictors['PREDICTOR RAT AGE AT LATEST ARREST'] = predictors['PREDICTOR RAT AGE AT LATEST ARREST'].apply(age_converter)"
   ]
  },
  {
   "cell_type": "markdown",
   "metadata": {},
   "source": [
    "# 1. Linear Regression on SSL Scores\n",
    "\n",
    "Below I brainstormed few options for improving linear regression performance/identifying structure in the residuals.\n",
    "\n",
    "TODO: give confidence intervals of coefficients using bootstrapping\n",
    "\n",
    "TODO: use `statsmodels` function `het_breuschpagan` to detect heteroscedasticity\n",
    "\n",
    "TODO: log transform of variables\n",
    "\n",
    "TODO: Box/cox transform\n",
    "\n",
    "TODO: Heteroscedasticity-consistent standard errors"
   ]
  },
  {
   "cell_type": "markdown",
   "metadata": {},
   "source": [
    "## 1.1 Age-only linear regression\n",
    "Since age is such a strong predictor, we may as well see how well a model if it incorporates age only."
   ]
  },
  {
   "cell_type": "code",
   "execution_count": 199,
   "metadata": {},
   "outputs": [
    {
     "data": {
      "text/plain": [
       "19.55824685163662"
      ]
     },
     "execution_count": 199,
     "metadata": {},
     "output_type": "execute_result"
    }
   ],
   "source": [
    "X, y = predictors['PREDICTOR RAT AGE AT LATEST ARREST'].values.reshape(-1,1),\\\n",
    "       predictors['SSL SCORE'].values.reshape(-1,1)\n",
    "reg = LinearRegression()\n",
    "reg.fit(X,y)\n",
    "rmse(reg.predict(X), y)"
   ]
  },
  {
   "cell_type": "markdown",
   "metadata": {},
   "source": [
    "## 1.2 Linear regression with normalized features\n",
    "This allows us to read off feature importances as the absolute values of the fitted coefficients."
   ]
  },
  {
   "cell_type": "code",
   "execution_count": 132,
   "metadata": {},
   "outputs": [
    {
     "name": "stdout",
     "output_type": "stream",
     "text": [
      "                            OLS Regression Results                            \n",
      "==============================================================================\n",
      "Dep. Variable:                      y   R-squared:                       0.950\n",
      "Model:                            OLS   Adj. R-squared:                  0.950\n",
      "Method:                 Least Squares   F-statistic:                 9.430e+05\n",
      "Date:                Mon, 28 Oct 2019   Prob (F-statistic):               0.00\n",
      "Time:                        12:20:01   Log-Likelihood:            -1.5869e+06\n",
      "No. Observations:              398582   AIC:                         3.174e+06\n",
      "Df Residuals:                  398573   BIC:                         3.174e+06\n",
      "Df Model:                           8                                         \n",
      "Covariance Type:            nonrobust                                         \n",
      "==============================================================================\n",
      "                 coef    std err          t      P>|t|      [0.025      0.975]\n",
      "------------------------------------------------------------------------------\n",
      "const        279.8999      0.021   1.36e+04      0.000     279.860     279.940\n",
      "x1           -52.3997      0.021  -2512.024      0.000     -52.441     -52.359\n",
      "x2             2.5536      0.024    108.266      0.000       2.507       2.600\n",
      "x3             7.0744      0.023    303.205      0.000       7.029       7.120\n",
      "x4             6.0363      0.025    239.203      0.000       5.987       6.086\n",
      "x5             1.5283      0.023     66.795      0.000       1.484       1.573\n",
      "x6             4.3956      0.022    199.984      0.000       4.352       4.439\n",
      "x7             5.7460      0.021    277.893      0.000       5.706       5.787\n",
      "x8             2.2527      0.025     91.562      0.000       2.204       2.301\n",
      "==============================================================================\n",
      "Omnibus:                    28792.782   Durbin-Watson:                   1.750\n",
      "Prob(Omnibus):                  0.000   Jarque-Bera (JB):            79364.326\n",
      "Skew:                           0.404   Prob(JB):                         0.00\n",
      "Kurtosis:                       5.031   Cond. No.                         2.15\n",
      "==============================================================================\n",
      "\n",
      "Warnings:\n",
      "[1] Standard Errors assume that the covariance matrix of the errors is correctly specified.\n"
     ]
    }
   ],
   "source": [
    "X_lin_scaled = StandardScaler().fit_transform(X)\n",
    "model = sm.OLS(y, sm.add_constant(X_lin_scaled))\n",
    "norm_results = model.fit()\n",
    "print(norm_results.summary())"
   ]
  },
  {
   "cell_type": "code",
   "execution_count": 133,
   "metadata": {},
   "outputs": [
    {
     "data": {
      "image/png": "[encoded data removed]",
      "text/plain": [
       "<Figure size 432x288 with 1 Axes>"
      ]
     },
     "metadata": {
      "needs_background": "light"
     },
     "output_type": "display_data"
    }
   ],
   "source": [
    "plt.barh(range(8), np.abs(norm_results.params[1:]) * 1./np.sum(np.abs(norm_results.params[1:])))\n",
    "plt.title(\"Feature Importances\")\n",
    "plt.xlabel(\"Relative Importance\")\n",
    "plt.yticks(ticks=range(8), labels=predictors.drop('SSL SCORE', axis=1).columns)\n",
    "plt.tight_layout()\n",
    "plt.show()"
   ]
  },
  {
   "cell_type": "markdown",
   "metadata": {},
   "source": [
    "## 1.3 OLS linear regression\n",
    "Features are not normalized this time. Below we have the RMSE."
   ]
  },
  {
   "cell_type": "code",
   "execution_count": 37,
   "metadata": {},
   "outputs": [
    {
     "name": "stdout",
     "output_type": "stream",
     "text": [
      "RMSE OLS: 12.965995748176073\n",
      "                            OLS Regression Results                            \n",
      "==============================================================================\n",
      "Dep. Variable:                      y   R-squared:                       0.950\n",
      "Model:                            OLS   Adj. R-squared:                  0.950\n",
      "Method:                 Least Squares   F-statistic:                 9.430e+05\n",
      "Date:                Sat, 26 Oct 2019   Prob (F-statistic):               0.00\n",
      "Time:                        14:42:17   Log-Likelihood:            -1.5869e+06\n",
      "No. Observations:              398582   AIC:                         3.174e+06\n",
      "Df Residuals:                  398573   BIC:                         3.174e+06\n",
      "Df Model:                           8                                         \n",
      "Covariance Type:            nonrobust                                         \n",
      "==============================================================================\n",
      "                 coef    std err          t      P>|t|      [0.025      0.975]\n",
      "------------------------------------------------------------------------------\n",
      "const        344.1459      0.037   9187.655      0.000     344.073     344.219\n",
      "x1           -40.8615      0.016  -2512.024      0.000     -40.893     -40.830\n",
      "x2            16.6967      0.154    108.266      0.000      16.394      16.999\n",
      "x3            33.5872      0.111    303.205      0.000      33.370      33.804\n",
      "x4            14.8839      0.062    239.203      0.000      14.762      15.006\n",
      "x5             4.1384      0.062     66.795      0.000       4.017       4.260\n",
      "x6             5.2459      0.026    199.984      0.000       5.195       5.297\n",
      "x7            14.1905      0.051    277.893      0.000      14.090      14.291\n",
      "x8            11.6623      0.127     91.562      0.000      11.413      11.912\n",
      "==============================================================================\n",
      "Omnibus:                    28792.782   Durbin-Watson:                   1.750\n",
      "Prob(Omnibus):                  0.000   Jarque-Bera (JB):            79364.326\n",
      "Skew:                           0.404   Prob(JB):                         0.00\n",
      "Kurtosis:                       5.031   Cond. No.                         18.7\n",
      "==============================================================================\n",
      "\n",
      "Warnings:\n",
      "[1] Standard Errors assume that the covariance matrix of the errors is correctly specified.\n"
     ]
    }
   ],
   "source": [
    "reg = LinearRegression()\n",
    "reg.fit(X,y)\n",
    "rmse_ols = np.sqrt(np.mean((reg.predict(X) - y)**2))\n",
    "print(\"RMSE OLS: \" + str(rmse_ols))\n",
    "\n",
    "model = sm.OLS(y, sm.add_constant(X))\n",
    "results = model.fit()\n",
    "print(results.summary())"
   ]
  },
  {
   "cell_type": "markdown",
   "metadata": {},
   "source": [
    "## 1.4 Principal component analysis\n",
    "For commentary, see report."
   ]
  },
  {
   "cell_type": "code",
   "execution_count": 90,
   "metadata": {},
   "outputs": [
    {
     "data": {
      "image/png": "[encoded data removed]",
      "text/plain": [
       "<Figure size 432x288 with 1 Axes>"
      ]
     },
     "metadata": {
      "needs_background": "light"
     },
     "output_type": "display_data"
    }
   ],
   "source": [
    "from sklearn.decomposition import PCA\n",
    "transformer = PCA(n_components=8)\n",
    "X_pca = transformer.fit_transform(X)\n",
    "\n",
    "plt.bar(range(8), transformer.explained_variance_ratio_)\n",
    "plt.title(\"Explained variance by component\")\n",
    "plt.ylabel(\"Percentage of explained variance\")\n",
    "plt.xlabel(\"Component\")\n",
    "plt.show()"
   ]
  },
  {
   "cell_type": "code",
   "execution_count": 122,
   "metadata": {},
   "outputs": [
    {
     "data": {
      "image/png": "[encoded data removed]",
      "text/plain": [
       "<Figure size 864x288 with 3 Axes>"
      ]
     },
     "metadata": {
      "needs_background": "light"
     },
     "output_type": "display_data"
    }
   ],
   "source": [
    "pca_r1 = pearsonr(X_pca[:,0], X[:,0])\n",
    "pca_r2 = pearsonr(X_pca[:,1], X[:,5])\n",
    "\n",
    "plt.subplots(figsize=(12,4))\n",
    "plt.subplot(1,3,1)\n",
    "plt.bar(range(8), transformer.explained_variance_ratio_)\n",
    "plt.title(\"Explained variance by component\")\n",
    "plt.ylabel(\"Percentage of explained variance\")\n",
    "plt.xlabel(\"Component\")\n",
    "\n",
    "plt.subplot(1,3,2)\n",
    "plt.scatter(X_pca[:,0], X[:,0])\n",
    "plt.xlabel(\"First Principal Component\")\n",
    "plt.ylabel(\"Age\")\n",
    "plt.title(\"First Principal Component vs. Age\\n(r, p): \" + str(pca_r1))\n",
    "\n",
    "plt.subplot(1,3,3)\n",
    "plt.scatter(X_pca[:,1], X[:,5])\n",
    "plt.xlabel(\"Second Principal Component\")\n",
    "plt.ylabel(\"Narcotic Arrests\")\n",
    "plt.title(\"Second Principal Component vs. Narcotic Arrests\\n(r, p): \" + str(pca_r2))\n",
    "plt.tight_layout()\n",
    "plt.show()"
   ]
  },
  {
   "cell_type": "markdown",
   "metadata": {},
   "source": [
    "## 1.5 Regularized linear regression\n",
    "The below is an involved attempt at using PCA, in combination with polynomial features, in combination with regularization, to improve RMSE. It didn't work - regularization is unhelpful even with cross-validated penalization paramater $\\alpha$, so we don't include it in the report."
   ]
  },
  {
   "cell_type": "code",
   "execution_count": 10,
   "metadata": {},
   "outputs": [],
   "source": [
    "from sklearn.decomposition import PCA\n",
    "pca = PCA(n_components=80)\n",
    "X_pca = pca.fit_transform(X_poly)"
   ]
  },
  {
   "cell_type": "code",
   "execution_count": 11,
   "metadata": {},
   "outputs": [],
   "source": [
    "from sklearn.linear_model import Ridge\n",
    "from sklearn.linear_model import Lasso\n",
    "from sklearn.linear_model import ElasticNet\n",
    "from sklearn.pipeline import Pipeline\n",
    "from sklearn.preprocessing import StandardScaler\n",
    "from sklearn.model_selection import GridSearchCV\n",
    "\n",
    "# scaling before regularized regression\n",
    "scaler = StandardScaler()\n",
    "X_scaled = scaler.fit_transform(X_pca)\n",
    "\n",
    "X_train, X_test, y_train, y_test = train_test_split(X_scaled, y, random_state=1,\\\n",
    "                                                    test_size=.2)\n",
    "\n",
    "rdg_param_grid= {'alpha': np.linspace(10, 10000, 100)}\n",
    "lso_param_grid= {'alpha': np.linspace(.001, 10, 100)}\n",
    "elt_param_grid= {'alpha': np.linspace(.0001, .01, 100)}"
   ]
  },
  {
   "cell_type": "code",
   "execution_count": 19,
   "metadata": {},
   "outputs": [],
   "source": [
    "rdg = GridSearchCV(Ridge(), rdg_param_grid, cv=5)\n",
    "rdg.fit(X_train,y_train)\n",
    "best_rdg = Ridge(alpha = rdg.best_params_['alpha'])\n",
    "best_rdg.fit(X_train,y_train)\n",
    "rmse_rdg = np.sqrt(np.mean((best_rdg.predict(X_test) - y_test)**2))"
   ]
  },
  {
   "cell_type": "code",
   "execution_count": 22,
   "metadata": {},
   "outputs": [],
   "source": [
    "lso = GridSearchCV(Lasso(), lso_param_grid, cv=5)\n",
    "lso.fit(X_train,y_train)\n",
    "best_lso = Lasso(alpha = lso.best_params_['alpha'])\n",
    "best_lso.fit(X_train,y_train)\n",
    "rmse_lso = np.sqrt(np.mean((best_lso.predict(X_test) - y_test)**2))"
   ]
  },
  {
   "cell_type": "code",
   "execution_count": null,
   "metadata": {},
   "outputs": [],
   "source": [
    "elt = GridSearchCV(ElasticNet(), elt_param_grid, cv=5)\n",
    "elt.fit(X_train,y_train)\n",
    "best_elt = ElasticNet(alpha = elt.best_params_['alpha'])\n",
    "best_elt.fit(X_train,y_train)\n",
    "rmse_elt = np.sqrt(np.mean((best_elt.predict(X_test) - y_test)**2))\n",
    "\n",
    "(rdg.best_params_, rmse_rdg), (lso.best_params_, rmse_lso), (elt.best_params_, rmse_elt)"
   ]
  },
  {
   "cell_type": "markdown",
   "metadata": {},
   "source": [
    "## 1.6 Linear Regression with polynomial features\n",
    "With polynomial features, we get an RMSE of 12.44. A little better, however there is a massive increase in parameters.\n",
    "\n",
    "Nevertheless, the F-statistic and the AIC suggest that the model is improved."
   ]
  },
  {
   "cell_type": "code",
   "execution_count": 7,
   "metadata": {
    "scrolled": true
   },
   "outputs": [
    {
     "name": "stdout",
     "output_type": "stream",
     "text": [
      "RMSE: 12.482324126717515\n"
     ]
    }
   ],
   "source": [
    "poly = PolynomialFeatures(3)\n",
    "X_poly = poly.fit_transform(X)\n",
    "\n",
    "X_poly_train, X_poly_test, y_train, y_test = train_test_split(X_poly, y, random_state=1,\\\n",
    "                                                    test_size=.2)\n",
    "\n",
    "reg_poly = LinearRegression()\n",
    "reg_poly.fit(X_poly_train,y_train)\n",
    "rmse_poly = np.sqrt(np.mean((reg_poly.predict(X_poly_test) - y_test)**2))\n",
    "print(\"RMSE: \" + str(rmse_poly))"
   ]
  },
  {
   "cell_type": "code",
   "execution_count": null,
   "metadata": {},
   "outputs": [],
   "source": [
    "RSS_full = np.sum((y - reg_poly.predict(X_poly))**2)\n",
    "RSS_reduced = np.sum((y - reg.predict(X))**2)\n",
    "DF_full = len(y) - len(X_poly[0])\n",
    "DF_reduced = len(y) - 8\n",
    "\n",
    "F = (RSS_reduced - RSS_full)/(DF_reduced - DF_full)/(RSS_full/DF_full)\n",
    "F\n",
    "\n",
    "from scipy.stats import f\n",
    "1 - f.cdf(F,DF_reduced,DF_full)"
   ]
  },
  {
   "cell_type": "code",
   "execution_count": 10,
   "metadata": {},
   "outputs": [
    {
     "name": "stdout",
     "output_type": "stream",
     "text": [
      "                            OLS Regression Results                            \n",
      "==============================================================================\n",
      "Dep. Variable:                      y   R-squared:                       0.954\n",
      "Model:                            OLS   Adj. R-squared:                  0.954\n",
      "Method:                 Least Squares   F-statistic:                 5.312e+04\n",
      "Date:                Fri, 25 Oct 2019   Prob (F-statistic):               0.00\n",
      "Time:                        09:18:02   Log-Likelihood:            -1.5702e+06\n",
      "No. Observations:              398582   AIC:                         3.141e+06\n",
      "Df Residuals:                  398426   BIC:                         3.142e+06\n",
      "Df Model:                         155                                         \n",
      "Covariance Type:            nonrobust                                         \n",
      "==============================================================================\n",
      "                 coef    std err          t      P>|t|      [0.025      0.975]\n",
      "------------------------------------------------------------------------------\n",
      "const        338.8418      0.059   5744.690      0.000     338.726     338.957\n",
      "x1           -28.5749      0.095   -301.174      0.000     -28.761     -28.389\n",
      "x2            14.2607      1.243     11.476      0.000      11.825      16.696\n",
      "x3            35.6324      0.498     71.599      0.000      34.657      36.608\n",
      "x4            16.4123      0.232     70.609      0.000      15.957      16.868\n",
      "x5             1.2385      0.057     21.573      0.000       1.126       1.351\n",
      "x6             3.5140      0.103     34.129      0.000       3.312       3.716\n",
      "x7            16.7482      0.141    118.822      0.000      16.472      17.024\n",
      "x8             7.7992      0.885      8.815      0.000       6.065       9.533\n",
      "x9            -5.2298      0.046   -114.283      0.000      -5.320      -5.140\n",
      "x10            1.5862      0.697      2.277      0.023       0.221       2.952\n",
      "x11           -0.2835      0.348     -0.816      0.415      -0.965       0.398\n",
      "x12           -0.6210      0.201     -3.093      0.002      -1.014      -0.228\n",
      "x13           -0.5139      0.084     -6.113      0.000      -0.679      -0.349\n",
      "x14            1.2030      0.081     14.860      0.000       1.044       1.362\n",
      "x15            0.4176      0.133      3.146      0.002       0.157       0.678\n",
      "x16            1.7089      0.428      3.995      0.000       0.871       2.547\n",
      "x17            3.0485      1.375      2.216      0.027       0.353       5.744\n",
      "x18            0.8912      0.670      1.329      0.184      -0.423       2.205\n",
      "x19            0.1251      0.869      0.144      0.885      -1.577       1.828\n",
      "x20           -2.7448      0.546     -5.023      0.000      -3.816      -1.674\n",
      "x21            0.5230      0.399      1.311      0.190      -0.259       1.305\n",
      "x22           -1.6125      0.813     -1.983      0.047      -3.206      -0.019\n",
      "x23           -0.1993      1.785     -0.112      0.911      -3.697       3.299\n",
      "x24           -0.6755      0.337     -2.007      0.045      -1.335      -0.016\n",
      "x25           -0.0624      0.593     -0.105      0.916      -1.224       1.099\n",
      "x26           -0.0699      0.291     -0.240      0.810      -0.641       0.501\n",
      "x27            0.2270      0.316      0.719      0.472      -0.391       0.845\n",
      "x28            0.3574      0.521      0.686      0.492      -0.663       1.378\n",
      "x29            1.5399      1.228      1.254      0.210      -0.866       3.946\n",
      "x30           -0.1645      0.125     -1.314      0.189      -0.410       0.081\n",
      "x31           -0.5792      0.150     -3.852      0.000      -0.874      -0.284\n",
      "x32            0.2038      0.183      1.116      0.264      -0.154       0.562\n",
      "x33           -0.7632      0.186     -4.098      0.000      -1.128      -0.398\n",
      "x34            2.0958      0.625      3.354      0.001       0.871       3.320\n",
      "x35            1.2385      0.057     21.573      0.000       1.126       1.351\n",
      "x36           -0.1083      0.068     -1.593      0.111      -0.241       0.025\n",
      "x37           -1.1632      0.108    -10.784      0.000      -1.375      -0.952\n",
      "x38           -0.2706      0.386     -0.701      0.483      -1.027       0.486\n",
      "x39            0.2599      0.025     10.215      0.000       0.210       0.310\n",
      "x40           -0.3569      0.080     -4.465      0.000      -0.514      -0.200\n",
      "x41            0.7240      0.419      1.727      0.084      -0.098       1.546\n",
      "x42            1.0879      0.080     13.568      0.000       0.931       1.245\n",
      "x43            1.5674      0.567      2.763      0.006       0.456       2.679\n",
      "x44           -0.6431      1.129     -0.570      0.569      -2.856       1.569\n",
      "x45            0.5614      0.006     89.823      0.000       0.549       0.574\n",
      "x46           -0.3563      0.140     -2.542      0.011      -0.631      -0.082\n",
      "x47            0.1270      0.069      1.842      0.065      -0.008       0.262\n",
      "x48           -0.0349      0.042     -0.837      0.402      -0.117       0.047\n",
      "x49            0.3549      0.039      8.988      0.000       0.278       0.432\n",
      "x50           -0.1943      0.016    -11.991      0.000      -0.226      -0.163\n",
      "x51           -0.0892      0.028     -3.173      0.002      -0.144      -0.034\n",
      "x52           -0.2028      0.078     -2.598      0.009      -0.356      -0.050\n",
      "x53           -0.5064      0.387     -1.310      0.190      -1.264       0.251\n",
      "x54            0.4207      0.288      1.459      0.145      -0.145       0.986\n",
      "x55            0.4237      0.390      1.085      0.278      -0.341       1.189\n",
      "x56            1.4249      0.402      3.544      0.000       0.637       2.213\n",
      "x57            0.1543      0.134      1.149      0.250      -0.109       0.417\n",
      "x58           -0.4542      0.292     -1.556      0.120      -1.026       0.118\n",
      "x59            0.3385      0.672      0.504      0.614      -0.978       1.655\n",
      "x60            0.2165      0.117      1.850      0.064      -0.013       0.446\n",
      "x61            0.3350      0.241      1.391      0.164      -0.137       0.807\n",
      "x62           -0.0771      0.232     -0.333      0.739      -0.531       0.377\n",
      "x63           -0.0492      0.097     -0.507      0.612      -0.239       0.141\n",
      "x64           -0.3864      0.175     -2.205      0.027      -0.730      -0.043\n",
      "x65           -0.3226      0.409     -0.788      0.430      -1.125       0.479\n",
      "x66            0.1571      0.060      2.620      0.009       0.040       0.275\n",
      "x67            0.6623      0.150      4.407      0.000       0.368       0.957\n",
      "x68            0.0988      0.066      1.486      0.137      -0.032       0.229\n",
      "x69            0.1373      0.086      1.601      0.109      -0.031       0.305\n",
      "x70           -0.9389      0.278     -3.372      0.001      -1.485      -0.393\n",
      "x71           -0.5139      0.084     -6.113      0.000      -0.679      -0.349\n",
      "x72           -0.1749      0.053     -3.293      0.001      -0.279      -0.071\n",
      "x73            0.4392      0.097      4.537      0.000       0.249       0.629\n",
      "x74           -0.5246      0.278     -1.890      0.059      -1.068       0.019\n",
      "x75           -0.0563      0.007     -8.095      0.000      -0.070      -0.043\n",
      "x76           -0.0262      0.025     -1.027      0.304      -0.076       0.024\n",
      "x77            0.0755      0.125      0.603      0.547      -0.170       0.321\n",
      "x78           -0.3253      0.025    -12.757      0.000      -0.375      -0.275\n",
      "x79            0.2653      0.183      1.453      0.146      -0.093       0.623\n",
      "x80            0.8809      0.311      2.832      0.005       0.271       1.490\n",
      "x81           -0.8595      0.399     -2.156      0.031      -1.641      -0.078\n",
      "x82           -0.2013      0.320     -0.629      0.529      -0.829       0.426\n",
      "x83            0.2272      0.427      0.532      0.595      -0.609       1.064\n",
      "x84            2.1882      0.765      2.862      0.004       0.690       3.687\n",
      "x85           -0.5070      0.174     -2.910      0.004      -0.849      -0.166\n",
      "x86           -0.3105      0.373     -0.833      0.405      -1.041       0.420\n",
      "x87           -1.1565      0.761     -1.520      0.128      -2.648       0.335\n",
      "x88           -0.5231      0.181     -2.883      0.004      -0.879      -0.167\n",
      "x89           -0.1500      0.363     -0.414      0.679      -0.861       0.561\n",
      "x90            0.2065      0.568      0.364      0.716      -0.906       1.319\n",
      "x91            0.3203      0.156      2.059      0.039       0.015       0.625\n",
      "x92           -0.5464      0.331     -1.653      0.098      -1.194       0.102\n",
      "x93           -0.1941      0.664     -0.292      0.770      -1.496       1.108\n",
      "x94            0.0496      0.156      0.318      0.750      -0.256       0.355\n",
      "x95            0.1010      0.692      0.146      0.884      -1.254       1.456\n",
      "x96           -1.0405      0.194     -5.355      0.000      -1.421      -0.660\n",
      "x97            1.2893      0.251      5.134      0.000       0.797       1.781\n",
      "x98            0.0079      0.651      0.012      0.990      -1.267       1.283\n",
      "x99           -2.7448      0.546     -5.023      0.000      -3.816      -1.674\n",
      "x100          -0.0419      0.339     -0.124      0.902      -0.706       0.623\n",
      "x101           1.1417      0.694      1.645      0.100      -0.219       2.502\n",
      "x102          -0.9350      1.328     -0.704      0.482      -3.538       1.668\n",
      "x103          -0.0216      0.020     -1.103      0.270      -0.060       0.017\n",
      "x104           0.1757      0.072      2.450      0.014       0.035       0.316\n",
      "x105           0.8989      0.346      2.596      0.009       0.220       1.578\n",
      "x106           0.9680      0.139      6.954      0.000       0.695       1.241\n",
      "x107           0.5652      0.567      0.996      0.319      -0.547       1.677\n",
      "x108           0.1044      0.838      0.125      0.901      -1.538       1.747\n",
      "x109          -0.1106      0.038     -2.905      0.004      -0.185      -0.036\n",
      "x110          -0.4776      0.184     -2.594      0.009      -0.839      -0.117\n",
      "x111           0.0554      0.210      0.263      0.792      -0.357       0.468\n",
      "x112          -0.0795      0.110     -0.721      0.471      -0.296       0.137\n",
      "x113           0.2936      0.196      1.496      0.135      -0.091       0.678\n",
      "x114          -0.0311      0.261     -0.119      0.905      -0.543       0.480\n",
      "x115          -0.1649      0.115     -1.433      0.152      -0.391       0.061\n",
      "x116          -0.1913      0.466     -0.410      0.681      -1.105       0.722\n",
      "x117           0.4682      0.172      2.721      0.007       0.131       0.805\n",
      "x118          -0.9917      0.217     -4.573      0.000      -1.417      -0.567\n",
      "x119          -0.7104      0.533     -1.332      0.183      -1.756       0.335\n",
      "x120          -0.0699      0.291     -0.240      0.810      -0.641       0.501\n",
      "x121           0.2486      0.253      0.983      0.326      -0.247       0.744\n",
      "x122          -0.4045      0.441     -0.916      0.359      -1.270       0.461\n",
      "x123           1.2817      0.937      1.368      0.171      -0.554       3.118\n",
      "x124          -0.1018      0.020     -5.126      0.000      -0.141      -0.063\n",
      "x125          -0.1555      0.069     -2.237      0.025      -0.292      -0.019\n",
      "x126          -0.6575      0.328     -2.004      0.045      -1.300      -0.015\n",
      "x127          -0.2460      0.119     -2.076      0.038      -0.478      -0.014\n",
      "x128           1.6285      0.488      3.339      0.001       0.673       2.584\n",
      "x129          -0.1593      0.728     -0.219      0.827      -1.586       1.267\n",
      "x130          -0.0417      0.012     -3.450      0.001      -0.065      -0.018\n",
      "x131           0.6412      0.092      6.999      0.000       0.462       0.821\n",
      "x132           0.0301      0.038      0.803      0.422      -0.043       0.104\n",
      "x133           0.0027      0.028      0.095      0.925      -0.052       0.058\n",
      "x134          -0.3312      0.094     -3.512      0.000      -0.516      -0.146\n",
      "x135          -0.5792      0.150     -3.852      0.000      -0.874      -0.284\n",
      "x136           0.3408      0.157      2.167      0.030       0.033       0.649\n",
      "x137           0.1741      0.164      1.062      0.288      -0.147       0.495\n",
      "x138          -0.0111      0.481     -0.023      0.982      -0.954       0.932\n",
      "x139          -0.0246      0.012     -2.039      0.041      -0.048      -0.001\n",
      "x140          -0.0043      0.035     -0.121      0.904      -0.073       0.065\n",
      "x141          -0.4843      0.157     -3.075      0.002      -0.793      -0.176\n",
      "x142          -0.2273      0.036     -6.250      0.000      -0.299      -0.156\n",
      "x143          -0.1407      0.166     -0.850      0.396      -0.465       0.184\n",
      "x144           0.4943      0.304      1.628      0.103      -0.101       1.089\n",
      "x145           1.2385      0.057     21.573      0.000       1.126       1.351\n",
      "x146          -0.1083      0.068     -1.593      0.111      -0.241       0.025\n",
      "x147          -1.1632      0.108    -10.784      0.000      -1.375      -0.952\n",
      "x148          -0.2706      0.386     -0.701      0.483      -1.027       0.486\n",
      "x149           0.0453      0.024      1.903      0.057      -0.001       0.092\n",
      "x150          -0.1215      0.072     -1.687      0.092      -0.263       0.020\n",
      "x151           0.3610      0.337      1.070      0.285      -0.300       1.022\n",
      "x152           0.3819      0.072      5.273      0.000       0.240       0.524\n",
      "x153          -1.0397      0.442     -2.352      0.019      -1.906      -0.173\n",
      "x154           0.6986      0.669      1.044      0.296      -0.613       2.010\n",
      "x155          -0.0070      0.001     -8.933      0.000      -0.008      -0.005\n",
      "x156           0.0102      0.004      2.830      0.005       0.003       0.017\n",
      "x157          -0.0742      0.023     -3.221      0.001      -0.119      -0.029\n",
      "x158          -0.0473      0.009     -5.367      0.000      -0.065      -0.030\n",
      "x159           0.1579      0.074      2.122      0.034       0.012       0.304\n",
      "x160           0.0999      0.209      0.477      0.633      -0.310       0.510\n",
      "x161          -0.3676      0.009    -40.166      0.000      -0.386      -0.350\n",
      "x162           0.7074      0.104      6.792      0.000       0.503       0.912\n",
      "x163          -0.9201      0.299     -3.078      0.002      -1.506      -0.334\n",
      "x164          -0.6297      0.375     -1.681      0.093      -1.364       0.104\n",
      "==============================================================================\n",
      "Omnibus:                    29498.710   Durbin-Watson:                   1.757\n",
      "Prob(Omnibus):                  0.000   Jarque-Bera (JB):            88969.991\n",
      "Skew:                           0.386   Prob(JB):                         0.00\n",
      "Kurtosis:                       5.182   Cond. No.                     1.40e+16\n",
      "==============================================================================\n",
      "\n",
      "Warnings:\n",
      "[1] Standard Errors assume that the covariance matrix of the errors is correctly specified.\n",
      "[2] The smallest eigenvalue is 2.26e-23. This might indicate that there are\n",
      "strong multicollinearity problems or that the design matrix is singular.\n"
     ]
    }
   ],
   "source": [
    "# A more verbose summary of the results of our model\n",
    "model = sm.OLS(y, sm.add_constant(X_poly))\n",
    "results = model.fit()\n",
    "print(results.summary())"
   ]
  },
  {
   "cell_type": "markdown",
   "metadata": {},
   "source": [
    "Residuals of the polynomial fit are evenly distributed, but not normally distributed."
   ]
  },
  {
   "cell_type": "code",
   "execution_count": 11,
   "metadata": {},
   "outputs": [
    {
     "data": {
      "text/plain": [
       "NormaltestResult(statistic=29497.742656525923, pvalue=0.0)"
      ]
     },
     "execution_count": 11,
     "metadata": {},
     "output_type": "execute_result"
    },
    {
     "data": {
      "image/png": "[encoded data removed]",
      "text/plain": [
       "<Figure size 432x288 with 1 Axes>"
      ]
     },
     "metadata": {
      "needs_background": "light"
     },
     "output_type": "display_data"
    }
   ],
   "source": [
    "resids = reg_poly.predict(X_poly) - y\n",
    "plt.hist(resids, bins=50)\n",
    "from scipy.stats import normaltest\n",
    "normaltest(resids)"
   ]
  },
  {
   "cell_type": "markdown",
   "metadata": {},
   "source": [
    "X_poly_train, X_poly_test, y_poly_train, y_poly_test = train_test_split(X_poly, y, random_state=10, test_size=.2)\n",
    "reg_poly.fit(X_poly_train, y_poly_train)\n",
    "rmse_poly = rmse(reg_poly.predict(X_poly_test), y_poly_test)\n",
    "rmse_poly"
   ]
  },
  {
   "cell_type": "markdown",
   "metadata": {},
   "source": [
    "# 1.7 Random forests on SSL scores"
   ]
  },
  {
   "cell_type": "markdown",
   "metadata": {},
   "source": [
    "### out of the box\n",
    "Use 100 estimators, every feature"
   ]
  },
  {
   "cell_type": "code",
   "execution_count": 168,
   "metadata": {},
   "outputs": [],
   "source": [
    "from sklearn.ensemble import RandomForestRegressor\n",
    "import xgboost as xgb"
   ]
  },
  {
   "cell_type": "code",
   "execution_count": 126,
   "metadata": {},
   "outputs": [
    {
     "data": {
      "text/plain": [
       "12.584065823877262"
      ]
     },
     "execution_count": 126,
     "metadata": {},
     "output_type": "execute_result"
    }
   ],
   "source": [
    "X_train, X_test, y_train, y_test = train_test_split(X, y, random_state=2, test_size=.2)\n",
    "\n",
    "reg = RandomForestRegressor(n_estimators=100, max_features='auto', oob_score=True)\n",
    "reg.fit(X_train,y_train)\n",
    "rmse(reg.predict(X_test), y_test)"
   ]
  },
  {
   "cell_type": "markdown",
   "metadata": {},
   "source": [
    "Use 100 estimators, $sqrt(8) \\sim 3$ features"
   ]
  },
  {
   "cell_type": "markdown",
   "metadata": {},
   "source": [
    "These are the cross-validated random forest features for SSL Score regression.\n",
    "\n",
    "({'n_estimators': 400,\n",
    "  'min_samples_split': 20,\n",
    "  'min_samples_leaf': 1,\n",
    "  'max_features': 3},\n",
    " 12.469405616996754)"
   ]
  },
  {
   "cell_type": "code",
   "execution_count": 170,
   "metadata": {},
   "outputs": [
    {
     "name": "stdout",
     "output_type": "stream",
     "text": [
      "Fitting 5 folds for each of 6 candidates, totalling 30 fits\n"
     ]
    },
    {
     "name": "stderr",
     "output_type": "stream",
     "text": [
      "//anaconda3/lib/python3.7/site-packages/sklearn/model_selection/_search.py:266: UserWarning: The total space of parameters 6 is smaller than n_iter=100. Running 6 iterations. For exhaustive searches, use GridSearchCV.\n",
      "  % (grid_size, self.n_iter, grid_size), UserWarning)\n",
      "[Parallel(n_jobs=-1)]: Using backend LokyBackend with 4 concurrent workers.\n",
      "[Parallel(n_jobs=-1)]: Done  30 out of  30 | elapsed: 29.7min finished\n"
     ]
    },
    {
     "data": {
      "text/plain": [
       "({'n_estimators': 400,\n",
       "  'min_samples_split': 20,\n",
       "  'min_samples_leaf': 1,\n",
       "  'max_features': 3},\n",
       " 12.469405616996754)"
      ]
     },
     "execution_count": 170,
     "metadata": {},
     "output_type": "execute_result"
    }
   ],
   "source": [
    "# takes a while\n",
    "from sklearn.model_selection import RandomizedSearchCV\n",
    "\n",
    "param_grid = {'max_features':[3], 'min_samples_split':[10,15,20,25,30,50],\\\n",
    "              'n_estimators':[400],'min_samples_leaf': [1]}\n",
    "\n",
    "rf = RandomForestRegressor()\n",
    "rf_random = RandomizedSearchCV(estimator = rf,\\\n",
    "                               param_distributions = param_grid,\\\n",
    "                               n_iter = 100, cv = 5, verbose=2,\\\n",
    "                               random_state=42, n_jobs = -1)\n",
    "              \n",
    "rf_random.fit(X_train,y_train)\n",
    "rf_random.best_params_, rmse(rf_random.predict(X_test), y_test)"
   ]
  },
  {
   "cell_type": "markdown",
   "metadata": {},
   "source": [
    "## Fit a regressor with the cross-validated parameters"
   ]
  },
  {
   "cell_type": "code",
   "execution_count": null,
   "metadata": {},
   "outputs": [],
   "source": [
    "rf = RandomForestRegressor(n_estimators=400, max_features=3, min_samples_split=20, min_samples_leaf=1,\\\n",
    "                            oob_score=True)\n",
    "rf.fit(X_train,y_train)\n",
    "rmse(reg.predict(X_test), y_test)"
   ]
  },
  {
   "cell_type": "code",
   "execution_count": 157,
   "metadata": {},
   "outputs": [
    {
     "data": {
      "image/png": "[encoded data removed]",
      "text/plain": [
       "<Figure size 432x288 with 1 Axes>"
      ]
     },
     "metadata": {
      "needs_background": "light"
     },
     "output_type": "display_data"
    }
   ],
   "source": [
    "plt.barh(np.arange(8),np.abs(norm_results.params[1:]) * 1./np.sum(np.abs(norm_results.params[1:])),\\\n",
    "         height=.4, label='ols')\n",
    "plt.barh(np.arange(8)+.41, rf.feature_importances_,\\\n",
    "         height=.4, label='random forests')\n",
    "plt.title(\"Feature Importances\")\n",
    "plt.xlabel(\"Relative Importance\")\n",
    "plt.yticks(ticks=range(8), labels=predictors.drop('SSL SCORE', axis=1).columns)\n",
    "plt.legend(loc='upper right')\n",
    "plt.tight_layout()\n",
    "plt.show()"
   ]
  },
  {
   "cell_type": "markdown",
   "metadata": {},
   "source": [
    "# 1.8 Using `xgboost` to predict SSL scores"
   ]
  },
  {
   "cell_type": "code",
   "execution_count": 18,
   "metadata": {},
   "outputs": [],
   "source": [
    "import xgboost as xgb\n",
    "X_train, X_test, y_train, y_test = train_test_split(X_scaled, y, random_state=2, test_size=.2)"
   ]
  },
  {
   "cell_type": "code",
   "execution_count": 19,
   "metadata": {},
   "outputs": [
    {
     "name": "stdout",
     "output_type": "stream",
     "text": [
      "[0]\teval-rmse:228.576\ttrain-rmse:228.376\n",
      "Multiple eval metrics have been passed: 'train-rmse' will be used for early stopping.\n",
      "\n",
      "Will train until train-rmse hasn't improved in 50 rounds.\n",
      "[1]\teval-rmse:183.074\ttrain-rmse:182.922\n",
      "[2]\teval-rmse:146.711\ttrain-rmse:146.599\n",
      "[3]\teval-rmse:117.672\ttrain-rmse:117.57\n",
      "[4]\teval-rmse:94.5083\ttrain-rmse:94.4108\n",
      "[5]\teval-rmse:76.0499\ttrain-rmse:75.962\n",
      "[6]\teval-rmse:61.3634\ttrain-rmse:61.2785\n",
      "[7]\teval-rmse:49.7251\ttrain-rmse:49.6477\n",
      "[8]\teval-rmse:40.546\ttrain-rmse:40.4759\n",
      "[9]\teval-rmse:33.3513\ttrain-rmse:33.2861\n",
      "[10]\teval-rmse:27.7737\ttrain-rmse:27.7131\n",
      "[11]\teval-rmse:23.4983\ttrain-rmse:23.4386\n",
      "[12]\teval-rmse:20.2872\ttrain-rmse:20.2267\n",
      "[13]\teval-rmse:17.9153\ttrain-rmse:17.8515\n",
      "[14]\teval-rmse:16.1981\ttrain-rmse:16.1342\n",
      "[15]\teval-rmse:14.9926\ttrain-rmse:14.9274\n",
      "[16]\teval-rmse:14.157\ttrain-rmse:14.0878\n",
      "[17]\teval-rmse:13.5883\ttrain-rmse:13.5151\n",
      "[18]\teval-rmse:13.2007\ttrain-rmse:13.1274\n",
      "[19]\teval-rmse:12.9434\ttrain-rmse:12.868\n",
      "[20]\teval-rmse:12.7703\ttrain-rmse:12.6945\n",
      "[21]\teval-rmse:12.6537\ttrain-rmse:12.5774\n",
      "[22]\teval-rmse:12.5763\ttrain-rmse:12.4982\n",
      "[23]\teval-rmse:12.5232\ttrain-rmse:12.4438\n",
      "[24]\teval-rmse:12.4871\ttrain-rmse:12.4047\n",
      "[25]\teval-rmse:12.4636\ttrain-rmse:12.3796\n",
      "[26]\teval-rmse:12.445\ttrain-rmse:12.3613\n",
      "[27]\teval-rmse:12.4318\ttrain-rmse:12.3474\n",
      "[28]\teval-rmse:12.4236\ttrain-rmse:12.3374\n",
      "[29]\teval-rmse:12.4174\ttrain-rmse:12.3297\n",
      "[30]\teval-rmse:12.4133\ttrain-rmse:12.3244\n",
      "[31]\teval-rmse:12.4078\ttrain-rmse:12.3189\n",
      "[32]\teval-rmse:12.4056\ttrain-rmse:12.3152\n",
      "[33]\teval-rmse:12.4041\ttrain-rmse:12.3125\n",
      "[34]\teval-rmse:12.4008\ttrain-rmse:12.3093\n",
      "[35]\teval-rmse:12.3995\ttrain-rmse:12.3079\n",
      "[36]\teval-rmse:12.3985\ttrain-rmse:12.3049\n",
      "[37]\teval-rmse:12.3981\ttrain-rmse:12.3018\n",
      "[38]\teval-rmse:12.3958\ttrain-rmse:12.2992\n",
      "[39]\teval-rmse:12.3953\ttrain-rmse:12.2987\n",
      "[40]\teval-rmse:12.3948\ttrain-rmse:12.2964\n",
      "[41]\teval-rmse:12.3942\ttrain-rmse:12.2954\n",
      "[42]\teval-rmse:12.3945\ttrain-rmse:12.2936\n",
      "[43]\teval-rmse:12.3941\ttrain-rmse:12.2906\n",
      "[44]\teval-rmse:12.3934\ttrain-rmse:12.2903\n",
      "[45]\teval-rmse:12.3925\ttrain-rmse:12.288\n",
      "[46]\teval-rmse:12.392\ttrain-rmse:12.2878\n",
      "[47]\teval-rmse:12.3917\ttrain-rmse:12.2874\n",
      "[48]\teval-rmse:12.3912\ttrain-rmse:12.2853\n",
      "[49]\teval-rmse:12.3915\ttrain-rmse:12.2852\n",
      "[50]\teval-rmse:12.391\ttrain-rmse:12.2839\n",
      "[51]\teval-rmse:12.3909\ttrain-rmse:12.2826\n",
      "[52]\teval-rmse:12.3908\ttrain-rmse:12.282\n",
      "[53]\teval-rmse:12.3909\ttrain-rmse:12.2818\n",
      "[54]\teval-rmse:12.39\ttrain-rmse:12.2797\n",
      "[55]\teval-rmse:12.3895\ttrain-rmse:12.2792\n",
      "[56]\teval-rmse:12.3892\ttrain-rmse:12.2775\n",
      "[57]\teval-rmse:12.389\ttrain-rmse:12.2771\n",
      "[58]\teval-rmse:12.3893\ttrain-rmse:12.2768\n",
      "[59]\teval-rmse:12.3891\ttrain-rmse:12.2765\n",
      "[60]\teval-rmse:12.3882\ttrain-rmse:12.2762\n",
      "[61]\teval-rmse:12.388\ttrain-rmse:12.2742\n",
      "[62]\teval-rmse:12.3878\ttrain-rmse:12.2736\n",
      "[63]\teval-rmse:12.3872\ttrain-rmse:12.2717\n",
      "[64]\teval-rmse:12.3871\ttrain-rmse:12.2705\n",
      "[65]\teval-rmse:12.387\ttrain-rmse:12.2693\n",
      "[66]\teval-rmse:12.3873\ttrain-rmse:12.2685\n",
      "[67]\teval-rmse:12.3875\ttrain-rmse:12.2679\n",
      "[68]\teval-rmse:12.3876\ttrain-rmse:12.2676\n",
      "[69]\teval-rmse:12.3879\ttrain-rmse:12.2674\n",
      "[70]\teval-rmse:12.3878\ttrain-rmse:12.2671\n",
      "[71]\teval-rmse:12.3878\ttrain-rmse:12.2669\n",
      "[72]\teval-rmse:12.3886\ttrain-rmse:12.2654\n",
      "[73]\teval-rmse:12.389\ttrain-rmse:12.2652\n",
      "[74]\teval-rmse:12.3891\ttrain-rmse:12.2649\n",
      "[75]\teval-rmse:12.3888\ttrain-rmse:12.2645\n",
      "[76]\teval-rmse:12.3885\ttrain-rmse:12.263\n",
      "[77]\teval-rmse:12.3883\ttrain-rmse:12.2625\n",
      "[78]\teval-rmse:12.3879\ttrain-rmse:12.2613\n",
      "[79]\teval-rmse:12.388\ttrain-rmse:12.2608\n",
      "[80]\teval-rmse:12.3883\ttrain-rmse:12.2612\n",
      "[81]\teval-rmse:12.3879\ttrain-rmse:12.2601\n",
      "[82]\teval-rmse:12.3882\ttrain-rmse:12.2592\n",
      "[83]\teval-rmse:12.388\ttrain-rmse:12.2591\n",
      "[84]\teval-rmse:12.3878\ttrain-rmse:12.2585\n",
      "[85]\teval-rmse:12.3877\ttrain-rmse:12.2579\n",
      "[86]\teval-rmse:12.388\ttrain-rmse:12.2578\n",
      "[87]\teval-rmse:12.3878\ttrain-rmse:12.2566\n",
      "[88]\teval-rmse:12.3877\ttrain-rmse:12.256\n",
      "[89]\teval-rmse:12.3878\ttrain-rmse:12.256\n",
      "[90]\teval-rmse:12.388\ttrain-rmse:12.2549\n",
      "[91]\teval-rmse:12.388\ttrain-rmse:12.2542\n",
      "[92]\teval-rmse:12.3879\ttrain-rmse:12.254\n",
      "[93]\teval-rmse:12.3881\ttrain-rmse:12.2535\n",
      "[94]\teval-rmse:12.388\ttrain-rmse:12.2527\n",
      "[95]\teval-rmse:12.3881\ttrain-rmse:12.2521\n",
      "[96]\teval-rmse:12.3882\ttrain-rmse:12.2519\n",
      "[97]\teval-rmse:12.3884\ttrain-rmse:12.2507\n",
      "[98]\teval-rmse:12.3884\ttrain-rmse:12.2499\n",
      "[99]\teval-rmse:12.3885\ttrain-rmse:12.2489\n"
     ]
    }
   ],
   "source": [
    "num_round = 100\n",
    "param = {'max_depth': 6, 'eta': .2,\\\n",
    "         'objective': 'reg:squarederror',\\\n",
    "        'booster':'dart' }\n",
    "dtrain = xgb.DMatrix(X_train, label=y_train)\n",
    "dtest = xgb.DMatrix(X_test, label=y_test)\n",
    "evallist = [(dtest, 'eval'), (dtrain, 'train')]\n",
    "bst = xgb.train(param, dtrain, num_round, evallist,\\\n",
    "                early_stopping_rounds=50)"
   ]
  },
  {
   "cell_type": "code",
   "execution_count": 20,
   "metadata": {},
   "outputs": [
    {
     "data": {
      "text/plain": [
       "['f0', 'f1', 'f2', 'f3', 'f4', 'f5', 'f6', 'f7']"
      ]
     },
     "execution_count": 20,
     "metadata": {},
     "output_type": "execute_result"
    }
   ],
   "source": [
    "bst.feature_names"
   ]
  },
  {
   "cell_type": "markdown",
   "metadata": {},
   "source": [
    "# 2. Predicting `TREND`"
   ]
  },
  {
   "cell_type": "markdown",
   "metadata": {},
   "source": [
    "Below are functions we'll need to account for NaN values in the unused fields of the SSL. For details, see the report."
   ]
  },
  {
   "cell_type": "code",
   "execution_count": 201,
   "metadata": {},
   "outputs": [],
   "source": [
    "def triangular_number(n):\n",
    "    return n * (n + 1) / 2\n",
    "\n",
    "def slopecalc(year, sub=0.):\n",
    "    if year==sub:\n",
    "        return 0.\n",
    "    elif year<2012:\n",
    "        base_year = year\n",
    "        n = int(2016 - base_year + 1)\n",
    "    else:\n",
    "        base_year = 2012\n",
    "        n = 5\n",
    "    i = int(year - base_year)\n",
    "    X = np.asarray(list(range(n))).reshape(-1,1)\n",
    "    Y = np.zeros_like(X)\n",
    "    Y[i] = 1\n",
    "    \n",
    "    return ((Y[i]*X[i] + -1./n * (triangular_number(n - 1))) /(np.var(X)*n))[0]\n",
    "    "
   ]
  },
  {
   "cell_type": "code",
   "execution_count": 213,
   "metadata": {},
   "outputs": [],
   "source": [
    "trend_predictors = df[['PREDICTOR RAT TREND IN CRIMINAL ACTIVITY',\\\n",
    "                       'SSL SCORE', 'PREDICTOR RAT AGE AT LATEST ARREST',\\\n",
    "                       'PREDICTOR RAT VICTIM SHOOTING INCIDENTS',\\\n",
    "                       'PREDICTOR RAT VICTIM BATTERY OR ASSAULT',\\\n",
    "                       'PREDICTOR RAT ARRESTS VIOLENT OFFENSES',\\\n",
    "                       'PREDICTOR RAT GANG AFFILIATION',\\\n",
    "                       'PREDICTOR RAT NARCOTIC ARRESTS',\\\n",
    "                       'PREDICTOR RAT UUW ARRESTS','LATEST DATE',\\\n",
    "                       'WEAPONS ARR CNT',\\\n",
    "                       'LATEST WEAPON ARR DATE',\\\n",
    "                       'NARCOTICS ARR CNT',\\\n",
    "                       'LATEST NARCOTIC ARR DATE',\\\n",
    "                       'DOMESTIC ARR CNT',\\\n",
    "                       'LATEST DOMESTIC ARR DATE',\\\n",
    "                       'SSL LAST PTV DATE']].dropna(subset=['PREDICTOR RAT AGE AT LATEST ARREST'])\n",
    "\n",
    "trend_predictors['PREDICTOR RAT AGE AT LATEST ARREST'] =\\\n",
    "    trend_predictors['PREDICTOR RAT AGE AT LATEST ARREST'].apply(age_converter)\n",
    "\n",
    "sub=0.\n",
    "trend_predictors = trend_predictors.fillna(value = {'LATEST DATE':sub,\\\n",
    "                                  'WEAPONS ARR CNT': 0, 'LATEST WEAPON ARR DATE': sub,\\\n",
    "                                  'NARCOTICS ARR CNT': 0, 'LATEST NARCOTIC ARR DATE':sub,\\\n",
    "                                  'DOMESTIC ARR CNT': 0, 'LATEST DOMESTIC ARR DATE': sub,\\\n",
    "                                  'SSL LAST PTV DATE': sub})\n",
    "trend_predictors = trend_predictors.dropna()\n",
    "\n",
    "X = trend_predictors.drop('PREDICTOR RAT TREND IN CRIMINAL ACTIVITY', axis=1).values"
   ]
  },
  {
   "cell_type": "code",
   "execution_count": 214,
   "metadata": {},
   "outputs": [],
   "source": [
    "slope_cols = ['LATEST DATE', 'LATEST WEAPON ARR DATE',\\\n",
    "              'LATEST NARCOTIC ARR DATE', 'LATEST DOMESTIC ARR DATE',\\\n",
    "              'SSL LAST PTV DATE']\n",
    "\n",
    "for column in list(slope_cols):\n",
    "    trend_predictors[column] = trend_predictors[column].apply(slopecalc)\n",
    "\n",
    "X_slope = trend_predictors.drop('PREDICTOR RAT TREND IN CRIMINAL ACTIVITY', axis=1).values\n",
    "Y = trend_predictors['PREDICTOR RAT TREND IN CRIMINAL ACTIVITY'].values"
   ]
  },
  {
   "cell_type": "markdown",
   "metadata": {},
   "source": [
    "## 2.1 Linear regression on `TREND` without slope calculation"
   ]
  },
  {
   "cell_type": "code",
   "execution_count": 204,
   "metadata": {},
   "outputs": [
    {
     "data": {
      "text/plain": [
       "0.3278621593954896"
      ]
     },
     "execution_count": 204,
     "metadata": {},
     "output_type": "execute_result"
    }
   ],
   "source": [
    "linreg = LinearRegression()\n",
    "linreg.fit(X, Y)\n",
    "\n",
    "rmse(linreg.predict(X), Y)"
   ]
  },
  {
   "cell_type": "markdown",
   "metadata": {},
   "source": [
    "## 2.2 Linear regression on `TREND` with slope calculation"
   ]
  },
  {
   "cell_type": "code",
   "execution_count": 205,
   "metadata": {},
   "outputs": [
    {
     "data": {
      "text/plain": [
       "0.3135370018714263"
      ]
     },
     "execution_count": 205,
     "metadata": {},
     "output_type": "execute_result"
    }
   ],
   "source": [
    "linreg.fit(X_slope, Y)\n",
    "rmse(linreg.predict(X_slope), Y)"
   ]
  },
  {
   "cell_type": "markdown",
   "metadata": {},
   "source": [
    "## 2.3 Linear regression with polynomial features, no calculation"
   ]
  },
  {
   "cell_type": "code",
   "execution_count": 206,
   "metadata": {},
   "outputs": [
    {
     "data": {
      "text/plain": [
       "0.2894635416765352"
      ]
     },
     "execution_count": 206,
     "metadata": {},
     "output_type": "execute_result"
    }
   ],
   "source": [
    "poly = PolynomialFeatures(degree=3)\n",
    "X_poly = poly.fit_transform(X)\n",
    "X_poly.shape\n",
    "\n",
    "reg = LinearRegression()\n",
    "reg.fit(X_poly, Y)\n",
    "rmse(reg.predict(X_poly), Y)"
   ]
  },
  {
   "cell_type": "markdown",
   "metadata": {},
   "source": [
    "## 2.4 Linear regression with polynomial features, with calculation"
   ]
  },
  {
   "cell_type": "code",
   "execution_count": 207,
   "metadata": {},
   "outputs": [
    {
     "data": {
      "text/plain": [
       "0.2843468520442556"
      ]
     },
     "execution_count": 207,
     "metadata": {},
     "output_type": "execute_result"
    }
   ],
   "source": [
    "X_slope_poly = poly.fit_transform(X_slope)\n",
    "X_slope_poly.shape\n",
    "\n",
    "reg = LinearRegression()\n",
    "reg.fit(X_slope_poly, Y)\n",
    "rmse(reg.predict(X_slope_poly), Y)"
   ]
  },
  {
   "cell_type": "markdown",
   "metadata": {},
   "source": [
    "### Some comments on `TREND`\n",
    "An upward spike in criminal activity (the highest 100 of observed `TREND` values) almost always is associated with a `LATEST DATE` of 2016. The low end `TREND` has a mean `LATEST DATE` of 2014.76. In contrast, the list as a whole has a mean `LATEST DATE` of 2014.2. One possible explanation: a more active criminal who has not committed a crime recently ought to have a lower trend than someone who has simply not committed a crime recently."
   ]
  },
  {
   "cell_type": "code",
   "execution_count": 25,
   "metadata": {
    "scrolled": true
   },
   "outputs": [
    {
     "data": {
      "text/plain": [
       "(2014.2014516460854, 2014.76)"
      ]
     },
     "execution_count": 25,
     "metadata": {},
     "output_type": "execute_result"
    }
   ],
   "source": [
    "np.mean(trend_predictors['LATEST DATE']),\\\n",
    "    np.mean(trend_predictors.iloc[y.argsort()[:100][::-1]]\\\n",
    "    ['LATEST DATE'])"
   ]
  },
  {
   "cell_type": "markdown",
   "metadata": {},
   "source": [
    "Entry 350020 has `TREND` of $1.2$, but is a man over 60 with no arrest record. This puts him above the 99th percentile for this variable, which indicates we might be missing data necessary for our model of `TREND`."
   ]
  },
  {
   "cell_type": "code",
   "execution_count": 212,
   "metadata": {},
   "outputs": [
    {
     "data": {
      "text/plain": [
       "SSL SCORE                                                                     175\n",
       "PREDICTOR RAT AGE AT LATEST ARREST                                          50-60\n",
       "PREDICTOR RAT VICTIM SHOOTING INCIDENTS                                         0\n",
       "PREDICTOR RAT VICTIM BATTERY OR ASSAULT                                         0\n",
       "PREDICTOR RAT ARRESTS VIOLENT OFFENSES                                          0\n",
       "PREDICTOR RAT GANG AFFILIATION                                                  1\n",
       "PREDICTOR RAT NARCOTIC ARRESTS                                                  0\n",
       "PREDICTOR RAT TREND IN CRIMINAL ACTIVITY                                      1.2\n",
       "PREDICTOR RAT UUW ARRESTS                                                       0\n",
       "SEX CODE CD                                                                     M\n",
       "RACE CODE CD                                                                  BLK\n",
       "WEAPON I                                                                        N\n",
       "DRUG I                                                                          N\n",
       "AGE GROUP                                                                   50-60\n",
       "AGE TO                                                                      50-60\n",
       "STOP ORDER NO                                                          2.9999e+08\n",
       "PAROLEE I                                                                       Y\n",
       "LATEST DATE                                                                  2008\n",
       "LATEST DIST                                                                    22\n",
       "MAJORITY DIST                                                                  22\n",
       "DLST                                                                           IL\n",
       "LATEST DIST RES                                                                 4\n",
       "WEAPONS ARR CNT                                                               NaN\n",
       "LATEST WEAPON ARR DATE                                                        NaN\n",
       "NARCOTICS ARR CNT                                                             NaN\n",
       "LATEST NARCOTIC ARR DATE                                                      NaN\n",
       "IDOC RES CITY                                                             CHICAGO\n",
       "IDOC RES STATE CODE                                                            IL\n",
       "IDOC RES ZIP CODE                                                           60649\n",
       "IDOC CPD DIST                                                                 NaN\n",
       "CPD ARREST I                                                                    Y\n",
       "DOMESTIC ARR CNT                                                              NaN\n",
       "LATEST DOMESTIC ARR DATE                                                      NaN\n",
       "AGE CURR                                                                    60-70\n",
       "SSL LAST PTV DATE                                                             NaN\n",
       "TRAP STATUS                                                                   NaN\n",
       "RAW SSL SCORE                                                             0.06696\n",
       "HEAT SCORE                                                                    175\n",
       "RAW_HEAT_SCORE                                                            0.06696\n",
       "STATUS I                                                                        Y\n",
       "PRE RAW HEAT SCORE                                                           6696\n",
       "TRAP FLAGS                                                                    NaN\n",
       "SSL FLAGS                                                                     NaN\n",
       "LATITUDE                                                                  41.6973\n",
       "LONGITUDE                                                                -87.6986\n",
       "CENSUS TRACT                                                          1.70317e+10\n",
       "COMMUNITY AREA                                                    MOUNT GREENWOOD\n",
       "LOCATION                                    (41.6972863766067, -87.6986083625473)\n",
       "Boundaries - ZIP Codes                                                         33\n",
       "Community Areas                                                                73\n",
       "Zip Codes                                                                    4447\n",
       "Census Tracts                                                                 256\n",
       "Wards                                                                          42\n",
       "Name: 350020, dtype: object"
      ]
     },
     "execution_count": 212,
     "metadata": {},
     "output_type": "execute_result"
    }
   ],
   "source": [
    "df.iloc[350020], np.percentile(trends, [1, 99])"
   ]
  },
  {
   "cell_type": "markdown",
   "metadata": {},
   "source": [
    "## 2.5 Cross validated random forests (no slope calculation)\n",
    "These are cross-validated hyperparameters. CV code takes hours, esp. with 400 estimators which is admittedly overkill. These hyperparamters were only computed for the dataset without the slope calculation, which may explain why currently the random forests model without the slope calculation outperforms that with the slope calculation.\n",
    "\n",
    " ({'n_estimators': 400,\n",
    "  'min_samples_split': 20,\n",
    "  'min_samples_leaf': 4,\n",
    "  'max_features': None},\n",
    " 0.2847586591235823)\n",
    " \n",
    " The below code will run RandomizedSearchCV to recompute these."
   ]
  },
  {
   "cell_type": "code",
   "execution_count": null,
   "metadata": {},
   "outputs": [],
   "source": [
    "# Perform RandomizedSearchCV (takes a few hours)\n",
    "from sklearn.model_selection import RandomizedSearchCV\n",
    "\n",
    "X_train, X_test, y_train, y_test = train_test_split(X, Y, random_state=2, test_size=.2)\n",
    "\n",
    "param_grid = {'max_features':[4,None], 'min_samples_split':[10,15,20,50],\\\n",
    "              'n_estimators':[400],'min_samples_leaf': [4,6,8,10,20]}\n",
    "\n",
    "rf = RandomForestRegressor()\n",
    "rf_random = RandomizedSearchCV(estimator = rf,\\\n",
    "                               param_distributions = param_grid,\\\n",
    "                               n_iter = 100, cv = 5, verbose=2,\\\n",
    "                               random_state=42, n_jobs = -1)\n",
    "              \n",
    "rf_random.fit(X_train,y_train)\n",
    "rf_random.best_params_, rmse(rf_random.predict(X_test), y_test)"
   ]
  },
  {
   "cell_type": "markdown",
   "metadata": {},
   "source": [
    "## 2.5 Cross validated random forests (with slope calculation)\n",
    "\n",
    "Same as above, using input with the slope calculation.\n",
    "\n",
    " ({'n_estimators': 400,\n",
    "  'min_samples_split': 20,\n",
    "  'min_samples_leaf': 4,\n",
    "  'max_features': None},\n",
    " 0.2847586591235823)"
   ]
  },
  {
   "cell_type": "code",
   "execution_count": null,
   "metadata": {},
   "outputs": [
    {
     "name": "stdout",
     "output_type": "stream",
     "text": [
      "Fitting 5 folds for each of 50 candidates, totalling 250 fits\n"
     ]
    },
    {
     "name": "stderr",
     "output_type": "stream",
     "text": [
      "//anaconda3/lib/python3.7/site-packages/sklearn/model_selection/_search.py:266: UserWarning: The total space of parameters 50 is smaller than n_iter=100. Running 50 iterations. For exhaustive searches, use GridSearchCV.\n",
      "  % (grid_size, self.n_iter, grid_size), UserWarning)\n",
      "[Parallel(n_jobs=-1)]: Using backend LokyBackend with 4 concurrent workers.\n"
     ]
    }
   ],
   "source": [
    "# Perform RandomizedSearchCV (takes a few hours)\n",
    "X_train, X_test, y_train, y_test = train_test_split(X_slope, Y, random_state=2, test_size=.2)\n",
    "\n",
    "param_grid = {'max_features':[4,None], 'min_samples_split':[5,10,15,20,50],\\\n",
    "              'n_estimators':[400],'min_samples_leaf': [4,6,8,10,20]}\n",
    "\n",
    "rf = RandomForestRegressor()\n",
    "rf_random = RandomizedSearchCV(estimator = rf,\\\n",
    "                               param_distributions = param_grid,\\\n",
    "                               n_iter = 100, cv = 5, verbose=2,\\\n",
    "                               random_state=42, n_jobs = -1)\n",
    "              \n",
    "rf_random.fit(X_train,y_train)\n",
    "rf_random.best_params_, rmse(rf_random.predict(X_test), y_test)"
   ]
  },
  {
   "cell_type": "markdown",
   "metadata": {},
   "source": [
    "## 2.6 XGBoost on Trend"
   ]
  },
  {
   "cell_type": "code",
   "execution_count": 192,
   "metadata": {},
   "outputs": [
    {
     "name": "stdout",
     "output_type": "stream",
     "text": [
      "[0]\teval-rmse:0.443311\ttrain-rmse:0.443415\n",
      "Multiple eval metrics have been passed: 'train-rmse' will be used for early stopping.\n",
      "\n",
      "Will train until train-rmse hasn't improved in 10 rounds.\n",
      "[1]\teval-rmse:0.358026\ttrain-rmse:0.357277\n",
      "[2]\teval-rmse:0.330449\ttrain-rmse:0.329609\n",
      "[3]\teval-rmse:0.320973\ttrain-rmse:0.319771\n",
      "[4]\teval-rmse:0.316189\ttrain-rmse:0.314974\n",
      "[5]\teval-rmse:0.313485\ttrain-rmse:0.311607\n",
      "[6]\teval-rmse:0.3123\ttrain-rmse:0.310065\n",
      "[7]\teval-rmse:0.310827\ttrain-rmse:0.30855\n",
      "[8]\teval-rmse:0.308814\ttrain-rmse:0.306368\n",
      "[9]\teval-rmse:0.306846\ttrain-rmse:0.304017\n",
      "[10]\teval-rmse:0.3046\ttrain-rmse:0.301617\n",
      "[11]\teval-rmse:0.303115\ttrain-rmse:0.300165\n",
      "[12]\teval-rmse:0.302197\ttrain-rmse:0.299006\n",
      "[13]\teval-rmse:0.300934\ttrain-rmse:0.2977\n",
      "[14]\teval-rmse:0.299081\ttrain-rmse:0.29544\n",
      "[15]\teval-rmse:0.298006\ttrain-rmse:0.294457\n",
      "[16]\teval-rmse:0.297738\ttrain-rmse:0.293638\n",
      "[17]\teval-rmse:0.297124\ttrain-rmse:0.293058\n",
      "[18]\teval-rmse:0.296946\ttrain-rmse:0.292421\n",
      "[19]\teval-rmse:0.295885\ttrain-rmse:0.291509\n",
      "[20]\teval-rmse:0.295636\ttrain-rmse:0.290862\n",
      "[21]\teval-rmse:0.295223\ttrain-rmse:0.290437\n",
      "[22]\teval-rmse:0.294847\ttrain-rmse:0.28978\n",
      "[23]\teval-rmse:0.29439\ttrain-rmse:0.28933\n",
      "[24]\teval-rmse:0.29379\ttrain-rmse:0.288491\n",
      "[25]\teval-rmse:0.293673\ttrain-rmse:0.288158\n",
      "[26]\teval-rmse:0.293893\ttrain-rmse:0.287641\n",
      "[27]\teval-rmse:0.293026\ttrain-rmse:0.286574\n",
      "[28]\teval-rmse:0.292908\ttrain-rmse:0.2859\n",
      "[29]\teval-rmse:0.292411\ttrain-rmse:0.285254\n",
      "[30]\teval-rmse:0.291906\ttrain-rmse:0.284662\n",
      "[31]\teval-rmse:0.291796\ttrain-rmse:0.284311\n",
      "[32]\teval-rmse:0.291789\ttrain-rmse:0.283903\n",
      "[33]\teval-rmse:0.291731\ttrain-rmse:0.283744\n",
      "[34]\teval-rmse:0.291408\ttrain-rmse:0.283326\n",
      "[35]\teval-rmse:0.291067\ttrain-rmse:0.282836\n",
      "[36]\teval-rmse:0.290981\ttrain-rmse:0.282566\n",
      "[37]\teval-rmse:0.290842\ttrain-rmse:0.282117\n",
      "[38]\teval-rmse:0.290631\ttrain-rmse:0.281839\n",
      "[39]\teval-rmse:0.290696\ttrain-rmse:0.281703\n",
      "[40]\teval-rmse:0.290008\ttrain-rmse:0.281045\n",
      "[41]\teval-rmse:0.290045\ttrain-rmse:0.280854\n",
      "[42]\teval-rmse:0.289935\ttrain-rmse:0.280595\n",
      "[43]\teval-rmse:0.289657\ttrain-rmse:0.280109\n",
      "[44]\teval-rmse:0.289429\ttrain-rmse:0.279672\n",
      "[45]\teval-rmse:0.289138\ttrain-rmse:0.279387\n",
      "[46]\teval-rmse:0.289163\ttrain-rmse:0.279224\n",
      "[47]\teval-rmse:0.288974\ttrain-rmse:0.278877\n",
      "[48]\teval-rmse:0.28887\ttrain-rmse:0.278633\n",
      "[49]\teval-rmse:0.288406\ttrain-rmse:0.278172\n",
      "[50]\teval-rmse:0.288322\ttrain-rmse:0.278011\n",
      "[51]\teval-rmse:0.28823\ttrain-rmse:0.277649\n",
      "[52]\teval-rmse:0.288224\ttrain-rmse:0.277462\n",
      "[53]\teval-rmse:0.288396\ttrain-rmse:0.277326\n",
      "[54]\teval-rmse:0.288074\ttrain-rmse:0.27698\n",
      "[55]\teval-rmse:0.288115\ttrain-rmse:0.276768\n",
      "[56]\teval-rmse:0.288034\ttrain-rmse:0.276597\n",
      "[57]\teval-rmse:0.287943\ttrain-rmse:0.276441\n",
      "[58]\teval-rmse:0.287675\ttrain-rmse:0.276137\n",
      "[59]\teval-rmse:0.287561\ttrain-rmse:0.275968\n",
      "[60]\teval-rmse:0.287749\ttrain-rmse:0.275809\n",
      "[61]\teval-rmse:0.287671\ttrain-rmse:0.275667\n",
      "[62]\teval-rmse:0.287624\ttrain-rmse:0.275546\n",
      "[63]\teval-rmse:0.28747\ttrain-rmse:0.27535\n",
      "[64]\teval-rmse:0.287347\ttrain-rmse:0.275178\n",
      "[65]\teval-rmse:0.287331\ttrain-rmse:0.274934\n",
      "[66]\teval-rmse:0.287228\ttrain-rmse:0.27473\n",
      "[67]\teval-rmse:0.287228\ttrain-rmse:0.274616\n",
      "[68]\teval-rmse:0.287191\ttrain-rmse:0.27449\n",
      "[69]\teval-rmse:0.287035\ttrain-rmse:0.274279\n",
      "[70]\teval-rmse:0.287035\ttrain-rmse:0.274162\n",
      "[71]\teval-rmse:0.286977\ttrain-rmse:0.274081\n",
      "[72]\teval-rmse:0.28682\ttrain-rmse:0.273889\n",
      "[73]\teval-rmse:0.286687\ttrain-rmse:0.273641\n",
      "[74]\teval-rmse:0.28653\ttrain-rmse:0.273372\n",
      "[75]\teval-rmse:0.286394\ttrain-rmse:0.273157\n",
      "[76]\teval-rmse:0.286272\ttrain-rmse:0.272984\n",
      "[77]\teval-rmse:0.286255\ttrain-rmse:0.272845\n",
      "[78]\teval-rmse:0.286303\ttrain-rmse:0.272763\n",
      "[79]\teval-rmse:0.286271\ttrain-rmse:0.272632\n",
      "[80]\teval-rmse:0.286275\ttrain-rmse:0.272475\n",
      "[81]\teval-rmse:0.286228\ttrain-rmse:0.272274\n",
      "[82]\teval-rmse:0.28606\ttrain-rmse:0.272115\n",
      "[83]\teval-rmse:0.286004\ttrain-rmse:0.272043\n",
      "[84]\teval-rmse:0.285839\ttrain-rmse:0.271825\n",
      "[85]\teval-rmse:0.285925\ttrain-rmse:0.271773\n",
      "[86]\teval-rmse:0.285988\ttrain-rmse:0.271652\n",
      "[87]\teval-rmse:0.285923\ttrain-rmse:0.27152\n",
      "[88]\teval-rmse:0.286099\ttrain-rmse:0.271425\n",
      "[89]\teval-rmse:0.286062\ttrain-rmse:0.27133\n",
      "[90]\teval-rmse:0.28605\ttrain-rmse:0.271177\n",
      "[91]\teval-rmse:0.285915\ttrain-rmse:0.271003\n",
      "[92]\teval-rmse:0.28592\ttrain-rmse:0.27088\n",
      "[93]\teval-rmse:0.285929\ttrain-rmse:0.270794\n",
      "[94]\teval-rmse:0.285917\ttrain-rmse:0.27075\n",
      "[95]\teval-rmse:0.285997\ttrain-rmse:0.270696\n",
      "[96]\teval-rmse:0.285839\ttrain-rmse:0.270556\n",
      "[97]\teval-rmse:0.285921\ttrain-rmse:0.270491\n",
      "[98]\teval-rmse:0.285828\ttrain-rmse:0.270343\n",
      "[99]\teval-rmse:0.285835\ttrain-rmse:0.270248\n",
      "[100]\teval-rmse:0.285814\ttrain-rmse:0.270133\n",
      "[101]\teval-rmse:0.285822\ttrain-rmse:0.270098\n",
      "[102]\teval-rmse:0.285867\ttrain-rmse:0.270017\n",
      "[103]\teval-rmse:0.285753\ttrain-rmse:0.269922\n",
      "[104]\teval-rmse:0.285693\ttrain-rmse:0.26979\n",
      "[105]\teval-rmse:0.285708\ttrain-rmse:0.269605\n",
      "[106]\teval-rmse:0.285585\ttrain-rmse:0.269471\n",
      "[107]\teval-rmse:0.285555\ttrain-rmse:0.269348\n",
      "[108]\teval-rmse:0.285669\ttrain-rmse:0.269198\n",
      "[109]\teval-rmse:0.285616\ttrain-rmse:0.26915\n",
      "[110]\teval-rmse:0.285565\ttrain-rmse:0.269025\n",
      "[111]\teval-rmse:0.285515\ttrain-rmse:0.268839\n",
      "[112]\teval-rmse:0.2855\ttrain-rmse:0.268743\n",
      "[113]\teval-rmse:0.285454\ttrain-rmse:0.268604\n",
      "[114]\teval-rmse:0.285506\ttrain-rmse:0.268553\n",
      "[115]\teval-rmse:0.285634\ttrain-rmse:0.268511\n",
      "[116]\teval-rmse:0.285603\ttrain-rmse:0.268357\n",
      "[117]\teval-rmse:0.285702\ttrain-rmse:0.268231\n",
      "[118]\teval-rmse:0.285678\ttrain-rmse:0.268147\n",
      "[119]\teval-rmse:0.285657\ttrain-rmse:0.268067\n",
      "[120]\teval-rmse:0.285659\ttrain-rmse:0.267948\n",
      "[121]\teval-rmse:0.285644\ttrain-rmse:0.267901\n",
      "[122]\teval-rmse:0.2856\ttrain-rmse:0.267824\n",
      "[123]\teval-rmse:0.285632\ttrain-rmse:0.267805\n",
      "[124]\teval-rmse:0.285592\ttrain-rmse:0.267746\n",
      "[125]\teval-rmse:0.285486\ttrain-rmse:0.267679\n",
      "[126]\teval-rmse:0.28558\ttrain-rmse:0.267552\n",
      "[127]\teval-rmse:0.285458\ttrain-rmse:0.267458\n",
      "[128]\teval-rmse:0.285441\ttrain-rmse:0.267382\n",
      "[129]\teval-rmse:0.285457\ttrain-rmse:0.267339\n",
      "[130]\teval-rmse:0.285449\ttrain-rmse:0.267301\n",
      "[131]\teval-rmse:0.285466\ttrain-rmse:0.267161\n",
      "[132]\teval-rmse:0.285363\ttrain-rmse:0.267006\n",
      "[133]\teval-rmse:0.285259\ttrain-rmse:0.266901\n",
      "[134]\teval-rmse:0.285307\ttrain-rmse:0.266826\n",
      "[135]\teval-rmse:0.285265\ttrain-rmse:0.266803\n",
      "[136]\teval-rmse:0.285353\ttrain-rmse:0.266731\n",
      "[137]\teval-rmse:0.285311\ttrain-rmse:0.266635\n",
      "[138]\teval-rmse:0.285301\ttrain-rmse:0.266562\n",
      "[139]\teval-rmse:0.285304\ttrain-rmse:0.266461\n",
      "[140]\teval-rmse:0.285204\ttrain-rmse:0.266247\n",
      "[141]\teval-rmse:0.285148\ttrain-rmse:0.266146\n",
      "[142]\teval-rmse:0.285313\ttrain-rmse:0.266044\n",
      "[143]\teval-rmse:0.285258\ttrain-rmse:0.265972\n",
      "[144]\teval-rmse:0.285268\ttrain-rmse:0.265899\n",
      "[145]\teval-rmse:0.285319\ttrain-rmse:0.265814\n",
      "[146]\teval-rmse:0.28531\ttrain-rmse:0.26573\n",
      "[147]\teval-rmse:0.285278\ttrain-rmse:0.265607\n",
      "[148]\teval-rmse:0.285416\ttrain-rmse:0.265557\n",
      "[149]\teval-rmse:0.2855\ttrain-rmse:0.26551\n",
      "[150]\teval-rmse:0.285467\ttrain-rmse:0.265448\n",
      "[151]\teval-rmse:0.285338\ttrain-rmse:0.265273\n",
      "[152]\teval-rmse:0.285222\ttrain-rmse:0.265141\n",
      "[153]\teval-rmse:0.285129\ttrain-rmse:0.265057\n",
      "[154]\teval-rmse:0.285097\ttrain-rmse:0.264981\n",
      "[155]\teval-rmse:0.285118\ttrain-rmse:0.264887\n",
      "[156]\teval-rmse:0.285145\ttrain-rmse:0.264832\n",
      "[157]\teval-rmse:0.285151\ttrain-rmse:0.264825\n",
      "[158]\teval-rmse:0.285103\ttrain-rmse:0.264741\n",
      "[159]\teval-rmse:0.285125\ttrain-rmse:0.264726\n",
      "[160]\teval-rmse:0.285065\ttrain-rmse:0.264652\n",
      "[161]\teval-rmse:0.285088\ttrain-rmse:0.264613\n",
      "[162]\teval-rmse:0.28504\ttrain-rmse:0.2646\n",
      "[163]\teval-rmse:0.28501\ttrain-rmse:0.264558\n",
      "[164]\teval-rmse:0.284951\ttrain-rmse:0.264528\n",
      "[165]\teval-rmse:0.28492\ttrain-rmse:0.264404\n",
      "[166]\teval-rmse:0.284893\ttrain-rmse:0.264348\n",
      "[167]\teval-rmse:0.284828\ttrain-rmse:0.26426\n",
      "[168]\teval-rmse:0.284814\ttrain-rmse:0.264227\n",
      "[169]\teval-rmse:0.284803\ttrain-rmse:0.26415\n",
      "[170]\teval-rmse:0.284957\ttrain-rmse:0.264112\n",
      "[171]\teval-rmse:0.285019\ttrain-rmse:0.26402\n",
      "[172]\teval-rmse:0.284996\ttrain-rmse:0.263942\n",
      "[173]\teval-rmse:0.285019\ttrain-rmse:0.263808\n",
      "[174]\teval-rmse:0.284987\ttrain-rmse:0.263725\n",
      "[175]\teval-rmse:0.284965\ttrain-rmse:0.263684\n",
      "[176]\teval-rmse:0.284967\ttrain-rmse:0.263624\n",
      "[177]\teval-rmse:0.284899\ttrain-rmse:0.263551\n",
      "[178]\teval-rmse:0.284893\ttrain-rmse:0.263518\n",
      "[179]\teval-rmse:0.284897\ttrain-rmse:0.263465\n",
      "[180]\teval-rmse:0.284932\ttrain-rmse:0.26343\n",
      "[181]\teval-rmse:0.284794\ttrain-rmse:0.263312\n",
      "[182]\teval-rmse:0.284782\ttrain-rmse:0.263214\n"
     ]
    },
    {
     "name": "stdout",
     "output_type": "stream",
     "text": [
      "[183]\teval-rmse:0.284799\ttrain-rmse:0.263146\n",
      "[184]\teval-rmse:0.284927\ttrain-rmse:0.263096\n",
      "[185]\teval-rmse:0.284769\ttrain-rmse:0.262989\n",
      "[186]\teval-rmse:0.28469\ttrain-rmse:0.262917\n",
      "[187]\teval-rmse:0.284687\ttrain-rmse:0.262889\n",
      "[188]\teval-rmse:0.284793\ttrain-rmse:0.262843\n",
      "[189]\teval-rmse:0.284784\ttrain-rmse:0.262779\n",
      "[190]\teval-rmse:0.284864\ttrain-rmse:0.262713\n",
      "[191]\teval-rmse:0.284854\ttrain-rmse:0.262655\n",
      "[192]\teval-rmse:0.284846\ttrain-rmse:0.262623\n",
      "[193]\teval-rmse:0.284833\ttrain-rmse:0.262547\n",
      "[194]\teval-rmse:0.284795\ttrain-rmse:0.262486\n",
      "[195]\teval-rmse:0.284741\ttrain-rmse:0.262436\n",
      "[196]\teval-rmse:0.284711\ttrain-rmse:0.262364\n",
      "[197]\teval-rmse:0.28466\ttrain-rmse:0.262244\n",
      "[198]\teval-rmse:0.284588\ttrain-rmse:0.26217\n",
      "[199]\teval-rmse:0.284569\ttrain-rmse:0.262151\n"
     ]
    }
   ],
   "source": [
    "X_train, X_test, y_train, y_test = train_test_split(X, Y, random_state=3, test_size=.2)\n",
    "num_round = 200\n",
    "param = {'max_depth': 4, 'eta': .5,\\\n",
    "         'objective': 'reg:squarederror',\\\n",
    "        'booster':'dart'}\n",
    "dtrain = xgb.DMatrix(X_train, label=y_train)\n",
    "dtest = xgb.DMatrix(X_test, label=y_test)\n",
    "evallist = [(dtest, 'eval'), (dtrain, 'train')]\n",
    "bst = xgb.train(param, dtrain, num_round, evallist,\\\n",
    "                early_stopping_rounds=10)"
   ]
  },
  {
   "cell_type": "markdown",
   "metadata": {},
   "source": [
    "## 2.7 Random forests without slope calculation\n"
   ]
  },
  {
   "cell_type": "code",
   "execution_count": null,
   "metadata": {},
   "outputs": [],
   "source": [
    "X_train, X_test, y_train, y_test = train_test_split(X, Y, random_state=2, test_size=.2)\n",
    "\n",
    "rf = RandomForestRegressor(n_estimators=400, min_samples_split=20, min_samples_leaf=4, max_features=None)\n",
    "rf.fit(X_train, y_train)\n",
    "rmse(rf.predict(X_test), y_test)"
   ]
  },
  {
   "cell_type": "markdown",
   "metadata": {},
   "source": [
    "## 2.8 Random forests with slope calculation"
   ]
  },
  {
   "cell_type": "code",
   "execution_count": null,
   "metadata": {},
   "outputs": [],
   "source": [
    "X_train, X_test, y_train, y_test = train_test_split(X_slope, Y, random_state=2, test_size=.2)\n",
    "\n",
    "rf.fit(X_train, y_train)\n",
    "rmse(rf.predict(X_test), y_test)"
   ]
  },
  {
   "cell_type": "markdown",
   "metadata": {},
   "source": [
    "## 2.9 Random model\n",
    "How well do we do if we just guess?"
   ]
  },
  {
   "cell_type": "code",
   "execution_count": 211,
   "metadata": {
    "scrolled": true
   },
   "outputs": [
    {
     "data": {
      "text/plain": [
       "0.5727358496051074"
      ]
     },
     "execution_count": 211,
     "metadata": {},
     "output_type": "execute_result"
    }
   ],
   "source": [
    "rmse(np.random.choice(Y, size=len(Y)), Y)"
   ]
  }
 ],
 "metadata": {
  "kernelspec": {
   "display_name": "Python 3",
   "language": "python",
   "name": "python3"
  },
  "language_info": {
   "codemirror_mode": {
    "name": "ipython",
    "version": 3
   },
   "file_extension": ".py",
   "mimetype": "text/x-python",
   "name": "python",
   "nbconvert_exporter": "python",
   "pygments_lexer": "ipython3",
   "version": "3.7.3"
  }
 },
 "nbformat": 4,
 "nbformat_minor": 2
}
